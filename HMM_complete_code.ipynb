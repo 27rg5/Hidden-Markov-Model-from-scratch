{
 "cells": [
  {
   "attachments": {},
   "cell_type": "markdown",
   "id": "d52e084c",
   "metadata": {},
   "source": [
    "## Part 1"
   ]
  },
  {
   "cell_type": "code",
   "execution_count": 1,
   "id": "74035e4d",
   "metadata": {},
   "outputs": [],
   "source": [
    "train = open(\"data/train\", \"r\")\n",
    "lines = train.readlines()"
   ]
  },
  {
   "cell_type": "code",
   "execution_count": 2,
   "id": "46ee8aab",
   "metadata": {},
   "outputs": [
    {
     "name": "stdout",
     "output_type": "stream",
     "text": [
      "['1', 'Pierre', 'NNP\\n']\n",
      "['2', 'Vinken', 'NNP\\n']\n",
      "['3', ',', ',\\n']\n",
      "['4', '61', 'CD\\n']\n",
      "['5', 'years', 'NNS\\n']\n",
      "['6', 'old', 'JJ\\n']\n",
      "['7', ',', ',\\n']\n",
      "['8', 'will', 'MD\\n']\n",
      "['9', 'join', 'VB\\n']\n",
      "['10', 'the', 'DT\\n']\n"
     ]
    }
   ],
   "source": [
    "for line in lines[:10]:\n",
    "    print(line.split('\\t'))"
   ]
  },
  {
   "cell_type": "code",
   "execution_count": 3,
   "id": "bc26efc9",
   "metadata": {
    "scrolled": false
   },
   "outputs": [],
   "source": [
    "vocab = {}\n",
    "for i in range(len(lines)):\n",
    "    if lines[i] == '\\n':\n",
    "        continue\n",
    "    \n",
    "    line = lines[i].split('\\t')\n",
    "    if line[1] not in vocab:\n",
    "        vocab[line[1]] = 1\n",
    "    else:\n",
    "        vocab[line[1]] = 1 + vocab[line[1]]    "
   ]
  },
  {
   "cell_type": "code",
   "execution_count": 4,
   "id": "ac370a1d",
   "metadata": {
    "scrolled": false
   },
   "outputs": [],
   "source": [
    "threshold = 2\n",
    "unk_dict = {'< unk >': 0}\n",
    "   \n",
    "for word in vocab:\n",
    "    if vocab[word] <= threshold:\n",
    "        unk_dict['< unk >'] = vocab[word] + unk_dict['< unk >']"
   ]
  },
  {
   "cell_type": "code",
   "execution_count": 5,
   "id": "529c010d",
   "metadata": {
    "scrolled": false
   },
   "outputs": [],
   "source": [
    "final_vocab = vocab.copy()\n",
    "for word in vocab:\n",
    "    if final_vocab[word] <= threshold:\n",
    "        del final_vocab[word]\n",
    "#     else:\n",
    "#         del unk_total_dict[word]"
   ]
  },
  {
   "cell_type": "code",
   "execution_count": 6,
   "id": "f2748c19",
   "metadata": {},
   "outputs": [],
   "source": [
    "final_vocab = sorted(final_vocab.items(), key=lambda x:x[1], reverse = True)\n",
    "final_vocab = dict(final_vocab)"
   ]
  },
  {
   "cell_type": "code",
   "execution_count": 7,
   "id": "af9e4ede",
   "metadata": {},
   "outputs": [],
   "source": [
    "final_vocab = list(final_vocab.items())\n",
    "final_vocab.insert(0, ('< unk >', unk_dict['< unk >']))"
   ]
  },
  {
   "cell_type": "code",
   "execution_count": 8,
   "id": "32673870",
   "metadata": {},
   "outputs": [],
   "source": [
    "file = open(\"vocab.txt\", \"w\")"
   ]
  },
  {
   "cell_type": "code",
   "execution_count": 9,
   "id": "d513b5ab",
   "metadata": {},
   "outputs": [],
   "source": [
    "for i in range(len(final_vocab)):\n",
    "    file.write(final_vocab[i][0])\n",
    "    file.write('\\t')\n",
    "    file.write(str(i))\n",
    "    file.write('\\t')\n",
    "    file.write(str(final_vocab[i][1]))\n",
    "    file.write('\\n')"
   ]
  },
  {
   "cell_type": "code",
   "execution_count": 10,
   "id": "1b6ab0b3",
   "metadata": {},
   "outputs": [
    {
     "name": "stdout",
     "output_type": "stream",
     "text": [
      "Total size of vocabulary is: 16920\n"
     ]
    }
   ],
   "source": [
    "print(\"Total size of vocabulary is:\", len(final_vocab))"
   ]
  },
  {
   "cell_type": "code",
   "execution_count": 11,
   "id": "53b85c53",
   "metadata": {},
   "outputs": [
    {
     "name": "stdout",
     "output_type": "stream",
     "text": [
      "The total occurrences of the special token ‘< unk >’ after replacement is: 32537\n"
     ]
    }
   ],
   "source": [
    "print(\"The total occurrences of the special token ‘< unk >’ after replacement is:\", final_vocab[0][1])"
   ]
  },
  {
   "attachments": {},
   "cell_type": "markdown",
   "id": "ac57e039",
   "metadata": {},
   "source": [
    "## Part 2"
   ]
  },
  {
   "cell_type": "code",
   "execution_count": 12,
   "id": "50afb6c6",
   "metadata": {},
   "outputs": [],
   "source": [
    "file1 = open(\"hmm.json\", \"w\")"
   ]
  },
  {
   "cell_type": "code",
   "execution_count": 13,
   "id": "9a87a560",
   "metadata": {},
   "outputs": [],
   "source": [
    "tag_freq = {}\n",
    "for i in range(len(lines)):\n",
    "    if i == 0:\n",
    "        tag_freq['start_tag'] = 1 + tag_freq.get('start_tag', 0)\n",
    "    elif lines[i] == '\\n':\n",
    "        tag_freq['start_tag'] = 1 + tag_freq.get('start_tag', 0)\n",
    "        continue\n",
    "    line = lines[i].split('\\t')\n",
    "    if line[2][:-1] not in tag_freq:\n",
    "        tag_freq[line[2][:-1]] = 1\n",
    "    else:\n",
    "        tag_freq[line[2][:-1]] = 1 + tag_freq[line[2][:-1]]"
   ]
  },
  {
   "cell_type": "code",
   "execution_count": 14,
   "id": "98099ffb",
   "metadata": {},
   "outputs": [],
   "source": [
    "tag_tag_freq = {}\n",
    "for i in range(len(lines)-1):\n",
    "    if lines[i] != '\\n' and lines[i+1] != '\\n':\n",
    "        tag1 = lines[i].split('\\t')[2][:-1]\n",
    "        tag2 = lines[i+1].split('\\t')[2][:-1]\n",
    "        key = (tag1, tag2)\n",
    "\n",
    "        tag_tag_freq[key] = 1 + tag_tag_freq.get(key, 0)"
   ]
  },
  {
   "cell_type": "code",
   "execution_count": 15,
   "id": "ae655e21",
   "metadata": {},
   "outputs": [],
   "source": [
    "tag_list = []\n",
    "tag_list.append('start_tag')\n",
    "for i in range(len(lines)):\n",
    "    if lines[i] != '\\n':\n",
    "        tag_list.append(lines[i].split('\\t')[2][:-1])\n",
    "    else:\n",
    "        tag_list.append('start_tag')"
   ]
  },
  {
   "cell_type": "code",
   "execution_count": 16,
   "id": "8e01e0c4",
   "metadata": {},
   "outputs": [],
   "source": [
    "transition = {}\n",
    "for tag1 in tag_freq:\n",
    "    for tag2 in tag_freq:\n",
    "        count = 0\n",
    "        for k in range(len(tag_list)-1):\n",
    "            if tag_list[k] == tag1 and tag_list[k+1] == tag2:\n",
    "                count += 1\n",
    "        \n",
    "        transition[(tag1, tag2)] = count/tag_freq[tag1]\n",
    "\n",
    "transition_str = {}\n",
    "temp = list(transition.items())\n",
    "for i in range(len(transition)):\n",
    "    k, v = temp[i]\n",
    "    k = f\"{k}\"\n",
    "    transition_str[k] = v"
   ]
  },
  {
   "cell_type": "code",
   "execution_count": 17,
   "id": "bf0ebf1f",
   "metadata": {},
   "outputs": [],
   "source": [
    "total_dict = {}\n",
    "for i in range(len(lines)):\n",
    "    if lines[i] == '\\n':\n",
    "        continue\n",
    "    line = lines[i].split('\\t')\n",
    "    word = line[1]\n",
    "    tag = line[2][:-1]\n",
    "    if vocab[word] <= threshold:\n",
    "        word = \"< unk >\"\n",
    "    key = (tag, word)\n",
    "    total_dict[key] = 1 + total_dict.get(key, 0)"
   ]
  },
  {
   "cell_type": "code",
   "execution_count": 18,
   "id": "77af1914",
   "metadata": {},
   "outputs": [],
   "source": [
    "final_vocab = dict(final_vocab)"
   ]
  },
  {
   "cell_type": "code",
   "execution_count": 19,
   "id": "b70663c5",
   "metadata": {},
   "outputs": [],
   "source": [
    "tag_word_list = []\n",
    "tag_word_list.append('start_tag', )\n",
    "for i in range(len(lines)):\n",
    "    if lines[i] != '\\n':\n",
    "        tag_list.append(lines[i].split('\\t')[2][:-1])\n",
    "    else:\n",
    "        tag_list.append('start_tag')"
   ]
  },
  {
   "cell_type": "code",
   "execution_count": 20,
   "id": "a8ca7774",
   "metadata": {},
   "outputs": [],
   "source": [
    "emission1 = {}\n",
    "for tag in tag_freq:\n",
    "    if tag != 'start_tag':\n",
    "        for word in final_vocab:\n",
    "            key1 = (tag, word)\n",
    "            if key1 in total_dict:\n",
    "                emission1[key1] = total_dict[key1]/tag_freq[tag]\n",
    "            else:\n",
    "                emission1[key1] = 0\n",
    "        \n",
    "        \n",
    "emission1_str = {}\n",
    "temp = list(emission1.items())\n",
    "for i in range(len(emission1)):\n",
    "    k, v = temp[i]\n",
    "    k = f\"{k}\"\n",
    "    emission1_str[k] = v"
   ]
  },
  {
   "cell_type": "code",
   "execution_count": 21,
   "id": "e15d9808",
   "metadata": {},
   "outputs": [],
   "source": [
    "model = {'transition':transition_str,'emission':emission1_str}"
   ]
  },
  {
   "cell_type": "code",
   "execution_count": 22,
   "id": "043a7d7f",
   "metadata": {},
   "outputs": [],
   "source": [
    "import json\n",
    "\n",
    "with open(\"hmm.json\", \"w\") as outfile:\n",
    "    json.dump(model, outfile)"
   ]
  },
  {
   "cell_type": "code",
   "execution_count": 23,
   "id": "141c42ae",
   "metadata": {},
   "outputs": [
    {
     "name": "stdout",
     "output_type": "stream",
     "text": [
      "Transition parameters: 2116\n",
      "Emission parameters: 761400\n"
     ]
    }
   ],
   "source": [
    "print(\"Transition parameters:\", len(transition))\n",
    "print(\"Emission parameters:\", len(emission1))"
   ]
  },
  {
   "attachments": {},
   "cell_type": "markdown",
   "id": "6de7a9f5",
   "metadata": {},
   "source": [
    "## Part 3"
   ]
  },
  {
   "cell_type": "code",
   "execution_count": 24,
   "id": "bba879bc",
   "metadata": {},
   "outputs": [],
   "source": [
    "def greedy_algo(lines, tag_data, t1, e1): \n",
    "    prediction = []\n",
    "    for i in range(len(lines)):\n",
    "        pred = []\n",
    "        for j in range(len(lines[i])):     \n",
    "            word = lines[i][j]\n",
    "            tag_ans = ''\n",
    "            ans = float('-inf')\n",
    " \n",
    "            for tag1 in tag_freq:\n",
    "                if tag1 != 'start_tag':\n",
    "                    x = 'start_tag' if j == 0 else pred[-1]\n",
    "                    key1 = (x, tag1)\n",
    "                    key2 = (tag1, word)\n",
    "                    if word not in final_vocab:\n",
    "                        key2 = (tag1, '< unk >')\n",
    "                    \n",
    "                    prob = t1[key1] * e1[key2]\n",
    "                    ans = max(prob, ans)\n",
    "                    if ans == prob:\n",
    "                        tag_ans = tag1\n",
    "            pred.append(tag_ans)\n",
    "        prediction.append(pred)\n",
    "    return prediction"
   ]
  },
  {
   "cell_type": "code",
   "execution_count": 25,
   "id": "93ead82e",
   "metadata": {},
   "outputs": [],
   "source": [
    "dev = open(\"data/dev\", \"r\")\n",
    "dev_lines = dev.readlines()\n",
    "sentences = []\n",
    "dev_true = []\n",
    "sentence = []\n",
    "dev_true_single = []\n",
    "for line in dev_lines:\n",
    "    if line != '\\n':\n",
    "        sentence.append(line.split('\\t')[1])\n",
    "        dev_true_single.append(line.split('\\t')[2][:-1])\n",
    "    else:\n",
    "        sentences.append(sentence)\n",
    "        dev_true.append(dev_true_single)\n",
    "        sentence = []\n",
    "        dev_true_single = []"
   ]
  },
  {
   "cell_type": "code",
   "execution_count": 26,
   "id": "4634bedf",
   "metadata": {},
   "outputs": [],
   "source": [
    "dev_pred = greedy_algo(sentences, tag_freq, transition, emission1)"
   ]
  },
  {
   "cell_type": "code",
   "execution_count": 27,
   "id": "36186569",
   "metadata": {},
   "outputs": [
    {
     "name": "stdout",
     "output_type": "stream",
     "text": [
      "Dev accuracy: 92.88202746089213\n"
     ]
    }
   ],
   "source": [
    "count = 0\n",
    "wordss = 0\n",
    "for i in range(len(dev_true)):\n",
    "    for j in range(len(dev_true[i])):\n",
    "        if dev_true[i][j] == dev_pred[i][j]:\n",
    "            count += 1\n",
    "    wordss += len(dev_true[i])\n",
    "\n",
    "    \n",
    "accuracy = (count/wordss) *100\n",
    "print(\"Dev accuracy:\", accuracy)"
   ]
  },
  {
   "cell_type": "code",
   "execution_count": 28,
   "id": "a2a9ad62",
   "metadata": {},
   "outputs": [],
   "source": [
    "test = open(\"data/test\", \"r\")\n",
    "test_lines = test.readlines()\n",
    "sentences = []\n",
    "sentence = []\n",
    "for line in test_lines:\n",
    "    if line != '\\n':\n",
    "        sentence.append(line.split('\\t')[1][:-1])\n",
    "    else:\n",
    "        sentences.append(sentence)\n",
    "        sentence = []"
   ]
  },
  {
   "cell_type": "code",
   "execution_count": 29,
   "id": "d85ba8fc",
   "metadata": {},
   "outputs": [],
   "source": [
    "test_pred = greedy_algo(sentences, tag_freq, transition, emission1)"
   ]
  },
  {
   "cell_type": "code",
   "execution_count": 30,
   "id": "25f73965",
   "metadata": {},
   "outputs": [],
   "source": [
    "file2 = open(\"greedy.out\", \"w\")\n",
    "\n",
    "test = open(\"data/test\", \"r\")\n",
    "test_lines = test.readlines()\n",
    "sentences = []\n",
    "sentence = []\n",
    "for line in test_lines:\n",
    "    if line != '\\n':\n",
    "        sentence.append(line.split('\\t')[1][:-1])\n",
    "    else:\n",
    "        sentences.append(sentence)\n",
    "        sentence = []\n",
    "        \n",
    "for i in range(len(sentences)):\n",
    "    for j in range(len(sentences[i])):\n",
    "        idx = str(j+1)\n",
    "        file2.write(idx)\n",
    "        file2.write('\\t')\n",
    "        file2.write(sentences[i][j])\n",
    "        file2.write('\\t')\n",
    "        file2.write(test_pred[i][j])\n",
    "        file2.write('\\n')\n",
    "    file2.write('\\n')"
   ]
  },
  {
   "attachments": {},
   "cell_type": "markdown",
   "id": "8af4a4d0",
   "metadata": {},
   "source": [
    "## Part 4"
   ]
  },
  {
   "cell_type": "code",
   "execution_count": 31,
   "id": "68ad0454",
   "metadata": {},
   "outputs": [],
   "source": [
    "def viterbi_algo(sents, tag_data, transition, emission1):\n",
    "    preds = []\n",
    "    for i in range(len(sents)):\n",
    "        lines = sents[i]\n",
    "        states = set(list(tag_data))\n",
    "        states.remove(\"start_tag\")\n",
    "        trails = {}\n",
    "        for s in states:\n",
    "            key1 = (\"start_tag\", s)\n",
    "            key2 = (s, lines[0])\n",
    "            if lines[0] not in final_vocab:\n",
    "                key2 = (s, '< unk >')\n",
    "            trails[s, 0] = transition[key1] * emission1[key2]\n",
    "        for o in range(1, len(lines)):\n",
    "            obs = lines[o]\n",
    "            if obs not in final_vocab:\n",
    "                obs = '< unk >'\n",
    "            for s in states:\n",
    "                v1 = [(trails[k, o - 1] * transition[(k, s)] * emission1[(s, obs)], k) for k in states]\n",
    "                k = sorted(v1)[-1][1]\n",
    "                trails[s, o] = trails[k, o - 1] * transition[(k, s)] * emission1[(s, obs)]\n",
    "        best_path = []\n",
    "        for o in range(len(lines) - 1, -1, -1):\n",
    "            k = sorted([(trails[k, o], k) for k in states])[-1][1]\n",
    "            best_path.append(k)\n",
    "        best_path.reverse()\n",
    "        preds.append(best_path)\n",
    "\n",
    "    return preds"
   ]
  },
  {
   "cell_type": "code",
   "execution_count": 32,
   "id": "a016de4b",
   "metadata": {},
   "outputs": [],
   "source": [
    "dev = open(\"data/dev\", \"r\")\n",
    "dev_lines = dev.readlines()\n",
    "sentences = []\n",
    "dev_true = []\n",
    "sentence = []\n",
    "dev_true_single = []\n",
    "for line in dev_lines:\n",
    "    if line != '\\n':\n",
    "        sentence.append(line.split('\\t')[1])\n",
    "        dev_true_single.append(line.split('\\t')[2][:-1])\n",
    "    else:\n",
    "        sentences.append(sentence)\n",
    "        dev_true.append(dev_true_single)\n",
    "        sentence = []\n",
    "        dev_true_single = []"
   ]
  },
  {
   "cell_type": "code",
   "execution_count": 33,
   "id": "572e4eea",
   "metadata": {},
   "outputs": [],
   "source": [
    "dev_pred = viterbi_algo(sentences, tag_freq, transition, emission1)"
   ]
  },
  {
   "cell_type": "code",
   "execution_count": 34,
   "id": "12d2b1d5",
   "metadata": {},
   "outputs": [
    {
     "name": "stdout",
     "output_type": "stream",
     "text": [
      "Dev accuracy: 93.11883780768268\n"
     ]
    }
   ],
   "source": [
    "count = 0\n",
    "wordss = 0\n",
    "for i in range(len(dev_true)):\n",
    "    for j in range(len(dev_true[i])):\n",
    "        if dev_true[i][j] == dev_pred[i][j]:\n",
    "            count += 1\n",
    "    wordss += len(dev_true[i])\n",
    "\n",
    "    \n",
    "accuracy = (count/wordss) * 100\n",
    "print(\"Dev accuracy:\", accuracy)"
   ]
  },
  {
   "cell_type": "code",
   "execution_count": 35,
   "id": "e02e3c52",
   "metadata": {},
   "outputs": [],
   "source": [
    "test = open(\"data/test\", \"r\")\n",
    "test_lines = test.readlines()\n",
    "sentences = []\n",
    "sentence = []\n",
    "for line in test_lines:\n",
    "    if line != '\\n':\n",
    "        sentence.append(line.split('\\t')[1][:-1])\n",
    "    else:\n",
    "        sentences.append(sentence)\n",
    "        sentence = []"
   ]
  },
  {
   "cell_type": "code",
   "execution_count": 36,
   "id": "25d6a05d",
   "metadata": {},
   "outputs": [],
   "source": [
    "test_pred = viterbi_algo(sentences, tag_freq, transition, emission1)"
   ]
  },
  {
   "cell_type": "code",
   "execution_count": 37,
   "id": "a3acfbc0",
   "metadata": {},
   "outputs": [],
   "source": [
    "file3 = open(\"viterbi.out\", \"w\")\n",
    "test = open(\"data/test\", \"r\")\n",
    "test_lines = test.readlines()\n",
    "\n",
    "sentences = []\n",
    "sentence = []\n",
    "for line in test_lines:\n",
    "    if line != '\\n':\n",
    "        sentence.append(line.split('\\t')[1][:-1])\n",
    "    else:\n",
    "        sentences.append(sentence)\n",
    "        sentence = []\n",
    "        \n",
    "for i in range(len(sentences)):\n",
    "    for j in range(len(sentences[i])):\n",
    "        idx = str(j+1)\n",
    "        file3.write(idx)\n",
    "        file3.write('\\t')\n",
    "        file3.write(sentences[i][j])\n",
    "        file3.write('\\t')\n",
    "        file3.write(test_pred[i][j])\n",
    "        file3.write('\\n')\n",
    "    file3.write('\\n')"
   ]
  },
  {
   "cell_type": "code",
   "execution_count": 38,
   "id": "0c279eae",
   "metadata": {},
   "outputs": [],
   "source": [
    "file.close()\n",
    "file1.close()\n",
    "file2.close()\n",
    "file3.close()"
   ]
  }
 ],
 "metadata": {
  "kernelspec": {
   "display_name": "Python 3 (ipykernel)",
   "language": "python",
   "name": "python3"
  },
  "language_info": {
   "codemirror_mode": {
    "name": "ipython",
    "version": 3
   },
   "file_extension": ".py",
   "mimetype": "text/x-python",
   "name": "python",
   "nbconvert_exporter": "python",
   "pygments_lexer": "ipython3",
   "version": "3.10.3"
  }
 },
 "nbformat": 4,
 "nbformat_minor": 5
}
